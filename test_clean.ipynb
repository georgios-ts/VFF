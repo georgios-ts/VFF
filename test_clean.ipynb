{
 "cells": [
  {
   "cell_type": "code",
   "execution_count": 1,
   "metadata": {},
   "outputs": [],
   "source": [
    "import qiskit\n",
    "import numpy as np\n",
    "\n",
    "from Hamiltonian import generate_XYZ\n",
    "from algorithm.vff import vff\n",
    "from ansatz.ansatz import feature_map_ansatz\n",
    "from ansatz.diagonal import diagonal_ansatz\n",
    "from ansatz.helper   import len_param\n",
    "\n",
    "from qiskit import Aer, execute\n",
    "from qiskit.utils.quantum_instance import QuantumInstance\n",
    "\n",
    "import matplotlib.pyplot as plt\n",
    "import seaborn as sns\n",
    "sns.set_style('darkgrid')"
   ]
  },
  {
   "cell_type": "markdown",
   "metadata": {},
   "source": [
    "Build the Hamiltonian with the generate_XYZ function. \n",
    "parameters =  [parameters_W, parameters_D]\n",
    "Build your ansatz as QC taking parameters stored in list or array, for example use feature_map_ansatz \n",
    "give your ansatz as instance of the vff class as function of the parameters: call them self.ansatz_W, self.ansatz_D\n",
    "update the parameters with self.update(parameters), this use the AQGD (use please the custom script: the official one has a bug...) optimizer to perform the update\n",
    "use \"local=True\" if you want to use the LHST as cost function\n",
    "\n",
    "\n"
   ]
  },
  {
   "cell_type": "code",
   "execution_count": 2,
   "metadata": {},
   "outputs": [
    {
     "name": "stderr",
     "output_type": "stream",
     "text": [
      "/Users/oki/Prepa-Hackathon/qiskit025/lib/python3.8/site-packages/qiskit/quantum_info/operators/symplectic/pauli.py:185: DeprecationWarning: Initializing Pauli from `Pauli(z=z, x=x)` kwargs is deprecated as of version 0.17.0 and will be removed no earlier than 3 months after the release date. Use tuple initialization `Pauli((z, x))` instead.\n",
      "  base_z, base_x, base_phase = self._from_array_deprecated(z, x)\n"
     ]
    }
   ],
   "source": [
    "n_qubits= 2\n",
    "H = generate_XYZ(J_x=1,J_y=0,J_z=0,field=1,n_spins=n_qubits)\n",
    "\n",
    "n_layer  = 2\n",
    "int_len = 2\n",
    "ansatz_W = lambda parameter: feature_map_ansatz(parameter,n_qubits=n_qubits,n_layer=n_layer,\n",
    "                                                interaction_length=int_len, interaction_type = 'x',full_rotation=True)\n",
    "ansatz_D = lambda parameter: diagonal_ansatz(parameter,n_qubits=n_qubits)\n",
    "\n",
    "len_param_W = len_param(n_qubits=n_qubits,n_layer = n_layer, interaction_length=int_len, full_rotation = True)\n",
    "len_param_D = 2**n_layer\n",
    "\n",
    "parameters = np.random.rand(len_param_W+len_param_D)\n",
    "\n",
    "backend = Aer.get_backend('statevector_simulator')\n",
    "instance = QuantumInstance(backend, seed_simulator=2, seed_transpiler=2)\n"
   ]
  },
  {
   "cell_type": "code",
   "execution_count": 5,
   "metadata": {},
   "outputs": [
    {
     "data": {
      "image/png": "[encoded data removed]",
      "text/plain": [
       "<Figure size 432x288 with 1 Axes>"
      ]
     },
     "metadata": {},
     "output_type": "display_data"
    }
   ],
   "source": [
    "\n",
    "v = vff(hamiltonian=H, n_qubits=2, len_param_W = len_param_W, instance=instance, shots=1)\n",
    "v.ansatz_W = ansatz_W\n",
    "v.ansatz_D = ansatz_D\n",
    "for i in range(20):\n",
    "    parameters = v.update(parameters,local = False)\n",
    "    \n",
    "plt.figure()\n",
    "plt.plot(v.cost)\n",
    "plt.show()"
   ]
  }
 ],
 "metadata": {
  "kernelspec": {
   "display_name": "qiskit025",
   "language": "python",
   "name": "qiskit025"
  },
  "language_info": {
   "codemirror_mode": {
    "name": "ipython",
    "version": 3
   },
   "file_extension": ".py",
   "mimetype": "text/x-python",
   "name": "python",
   "nbconvert_exporter": "python",
   "pygments_lexer": "ipython3",
   "version": "3.8.6"
  }
 },
 "nbformat": 4,
 "nbformat_minor": 4
}
