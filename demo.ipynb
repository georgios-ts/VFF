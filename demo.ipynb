{
 "cells": [
  {
   "cell_type": "code",
   "execution_count": 1,
   "id": "59f931fb",
   "metadata": {},
   "outputs": [],
   "source": [
    "from numpy import pi\n",
    "import numpy as np\n",
    "\n",
    "from qiskit.opflow import I, Z, Zero, TensoredOp, PauliSumOp, PauliOp, \\\n",
    "                        PauliTrotterEvolution, Gradient, \\\n",
    "                        StateFn, CircuitStateFn, CircuitSampler\n",
    "from qiskit.quantum_info import Operator, Pauli, PauliTable, SparsePauliOp\n",
    "\n",
    "from qiskit import Aer, execute\n",
    "from qiskit.circuit import QuantumCircuit, QuantumRegister, Parameter\n",
    "\n",
    "from qiskit.utils.quantum_instance import QuantumInstance\n",
    "\n",
    "\n",
    "\n",
    "qasm_sim  = Aer.get_backend('qasm_simulator')\n",
    "state_sim = Aer.get_backend('statevector_simulator')"
   ]
  },
  {
   "cell_type": "markdown",
   "id": "cfd9cef4",
   "metadata": {},
   "source": [
    "### Hamiltonian\n",
    "Alternative to generate a XX, YY, ZZ hamiltonian plus a tranverse field. \n",
    "\n",
    "It's faster for large number of spins (nor that it matters though)."
   ]
  },
  {
   "cell_type": "code",
   "execution_count": 2,
   "id": "09342d09",
   "metadata": {},
   "outputs": [
    {
     "data": {
      "text/plain": [
       "['XX', 'YY', 'ZZ', 'IZ', 'ZI']"
      ]
     },
     "execution_count": 2,
     "metadata": {},
     "output_type": "execute_result"
    }
   ],
   "source": [
    "periodic = False\n",
    "\n",
    "# number of spins\n",
    "n = 2\n",
    "nt = n if periodic else n - 1\n",
    "\n",
    "# neighbor interactions\n",
    "mat = np.zeros((nt, n))\n",
    "np.fill_diagonal(mat, 1)\n",
    "np.fill_diagonal(mat[:, 1:], 1)\n",
    "\n",
    "if periodic:\n",
    "    mat[nt - 1, 0] = 1\n",
    "    \n",
    "# All interactions\n",
    "data = np.zeros((3 * nt, 2 * n))\n",
    "# XX interactions\n",
    "data[:nt, :n] = mat\n",
    "\n",
    "# YY interactions\n",
    "data[nt:2 * nt, :n] = mat\n",
    "data[nt:2 * nt, n:] = mat\n",
    "\n",
    "# ZZ interactions\n",
    "data[2 * nt:, n:] = mat\n",
    "\n",
    "(Jx, Jy, Jz) = (1, 0.5, 0.25)\n",
    "J = np.array([Jx, Jy, Jz])\n",
    "coefs = np.repeat(J, nt)\n",
    "\n",
    "pt = PauliTable(data)\n",
    "interaction = SparsePauliOp(pt, coefs)\n",
    "\n",
    "# Tranverse field\n",
    "h = .1\n",
    "data = np.zeros((n, 2 * n))\n",
    "np.fill_diagonal(data[:, n:], 1)\n",
    "\n",
    "coefs = h * np.ones(n)\n",
    "\n",
    "pt = PauliTable(data)\n",
    "tranverse = SparsePauliOp(pt, coefs)\n",
    "\n",
    "ham = interaction + tranverse\n",
    "ham._table.to_labels()"
   ]
  },
  {
   "cell_type": "markdown",
   "id": "8f7f925a",
   "metadata": {},
   "source": [
    "### Trotterized"
   ]
  },
  {
   "cell_type": "code",
   "execution_count": 3,
   "id": "0093fc43",
   "metadata": {},
   "outputs": [
    {
     "data": {
      "image/png": "[encoded data removed]",
      "text/plain": [
       "<Figure size 1049.65x144.48 with 1 Axes>"
      ]
     },
     "execution_count": 3,
     "metadata": {},
     "output_type": "execute_result"
    }
   ],
   "source": [
    "ham_op = PauliSumOp(ham)\n",
    "evop = PauliTrotterEvolution().convert(ham_op.exp_i())\n",
    "\n",
    "evop.primitive.draw('mpl')"
   ]
  },
  {
   "cell_type": "markdown",
   "id": "9bd540ff",
   "metadata": {},
   "source": [
    "###  Hilbert - Schmidt Test\n",
    "\n",
    "Let's look at a toy example."
   ]
  },
  {
   "cell_type": "markdown",
   "id": "3c73480f",
   "metadata": {},
   "source": [
    "Target unitary:"
   ]
  },
  {
   "cell_type": "code",
   "execution_count": 4,
   "id": "cbd51139",
   "metadata": {},
   "outputs": [
    {
     "name": "stdout",
     "output_type": "stream",
     "text": [
      "                          \n",
      "q_0: ──■───────────────■──\n",
      "     ┌─┴─┐┌─────────┐┌─┴─┐\n",
      "q_1: ┤ X ├┤ RZ(π/3) ├┤ X ├\n",
      "     └───┘└─────────┘└───┘\n"
     ]
    }
   ],
   "source": [
    "target = QuantumCircuit(2, name='U')\n",
    "target.cx(0, 1)\n",
    "target.rz(np.pi / 3, 1)\n",
    "target.cx(0, 1)\n",
    "\n",
    "print(target)"
   ]
  },
  {
   "cell_type": "markdown",
   "id": "b698c9ed",
   "metadata": {},
   "source": [
    "Ansatz:"
   ]
  },
  {
   "cell_type": "code",
   "execution_count": 5,
   "id": "e97a5ff7",
   "metadata": {},
   "outputs": [
    {
     "name": "stdout",
     "output_type": "stream",
     "text": [
      "                                           \n",
      "q_0: ───────────■─────────────■────────────\n",
      "     ┌───────┐┌─┴─┐┌───────┐┌─┴─┐┌────────┐\n",
      "q_1: ┤ RY(λ) ├┤ X ├┤ RZ(φ) ├┤ X ├┤ RY(-λ) ├\n",
      "     └───────┘└───┘└───────┘└───┘└────────┘\n"
     ]
    }
   ],
   "source": [
    "phi = Parameter('φ')\n",
    "lam = Parameter('λ')\n",
    "\n",
    "ansatz = QuantumCircuit(2, name='V')\n",
    "ansatz.ry(lam, 1)\n",
    "\n",
    "ansatz.cx(0, 1)\n",
    "ansatz.rz(phi, 1)\n",
    "ansatz.cx(0, 1)\n",
    "\n",
    "ansatz.ry(-1 * lam, 1)\n",
    "\n",
    "print(ansatz)"
   ]
  },
  {
   "cell_type": "markdown",
   "id": "a031e241",
   "metadata": {},
   "source": [
    "Cost circuit:"
   ]
  },
  {
   "cell_type": "code",
   "execution_count": 6,
   "id": "c6358656",
   "metadata": {},
   "outputs": [
    {
     "name": "stdout",
     "output_type": "stream",
     "text": [
      "      ┌───┐           ░    ┌────┐   ░           ┌───┐\n",
      "qa_0: ┤ H ├──■────────░────┤0   ├───░────────■──┤ H ├\n",
      "      ├───┤  │        ░    │  U │   ░        │  ├───┤\n",
      "qa_1: ┤ H ├──┼────■───░────┤1   ├───░───■────┼──┤ H ├\n",
      "      └───┘┌─┴─┐  │   ░ ┌──┴────┴─┐ ░   │  ┌─┴─┐└───┘\n",
      "qb_0: ─────┤ X ├──┼───░─┤0        ├─░───┼──┤ X ├─────\n",
      "           └───┘┌─┴─┐ ░ │  V(λ,φ) │ ░ ┌─┴─┐└───┘     \n",
      "qb_1: ──────────┤ X ├─░─┤1        ├─░─┤ X ├──────────\n",
      "                └───┘ ░ └─────────┘ ░ └───┘          \n"
     ]
    }
   ],
   "source": [
    "nq  = target.num_qubits\n",
    "\n",
    "qa = QuantumRegister(nq, 'qa')\n",
    "qb = QuantumRegister(nq, 'qb')\n",
    "\n",
    "cost_qc = QuantumCircuit(qa, qb)\n",
    "\n",
    "cost_qc.h(qa)\n",
    "cost_qc.cx(qa, qb)\n",
    "\n",
    "cost_qc.barrier()\n",
    "# target\n",
    "cost_qc.append(target.to_gate(), qa)\n",
    "\n",
    "# ansatz\n",
    "# TODO: we need to take the conjugate of each gate. \n",
    "# ignore this for now.\n",
    "cost_qc.append(ansatz.to_gate(), qb)\n",
    "\n",
    "cost_qc.barrier()\n",
    "cost_qc.cx(qa[::-1], qb[::-1])\n",
    "cost_qc.h(qa)\n",
    "\n",
    "print(cost_qc)"
   ]
  },
  {
   "cell_type": "markdown",
   "id": "1dfe919d",
   "metadata": {},
   "source": [
    "Cost function: \n",
    "$$ C_{HST}(\\theta) = 1 - | ^{\\otimes 2 n} \\langle 0 | U_{cost}(\\theta) | 0 \\rangle^{\\otimes 2 n} |^2 $$"
   ]
  },
  {
   "cell_type": "markdown",
   "id": "78276c90",
   "metadata": {},
   "source": [
    "The easy way.\n",
    "\n",
    "Build a projector $ P_0 $ into $ |0 \\rangle^{\\otimes 2n} $ as a sum of paulis.\n",
    "$$ C_{HST} = 1 - ^{\\otimes 2n}\\langle 0| U^{\\dagger}_{cost}(\\theta) \\cdot P_0 \\cdot U_{cost}(\\theta) |0 \\rangle^{\\otimes 2n} $$"
   ]
  },
  {
   "cell_type": "code",
   "execution_count": 7,
   "id": "fe443049",
   "metadata": {},
   "outputs": [
    {
     "name": "stdout",
     "output_type": "stream",
     "text": [
      "(0.4375+0j)\n"
     ]
    }
   ],
   "source": [
    "sampler = CircuitSampler(state_sim)\n",
    "# sampler = CircuitSampler(qasm_sim)\n",
    "\n",
    "nq = cost_qc.num_qubits\n",
    "P0 = (I + Z) / 2\n",
    "meas = ~StateFn(TensoredOp([P0] * nq))\n",
    "\n",
    "op = meas @ CircuitStateFn(cost_qc)\n",
    "\n",
    "# random values.\n",
    "value_dict = {\n",
    "    phi: np.pi / 3,\n",
    "    lam: np.pi / 2,\n",
    "}\n",
    "res = sampler.convert(op, value_dict).eval()\n",
    "\n",
    "print(1 - res)"
   ]
  },
  {
   "cell_type": "markdown",
   "id": "f3687d1f",
   "metadata": {},
   "source": [
    "Qiskit can handle directly the gradients."
   ]
  },
  {
   "cell_type": "code",
   "execution_count": 8,
   "id": "5ff8ece2",
   "metadata": {},
   "outputs": [
    {
     "data": {
      "text/plain": [
       "array([-0.375     -0.j,  0.32475953-0.j])"
      ]
     },
     "execution_count": 8,
     "metadata": {},
     "output_type": "execute_result"
    }
   ],
   "source": [
    "grad_op = Gradient(grad_method='param_shift').convert(op)\n",
    "res = sampler.convert(grad_op, value_dict).eval()\n",
    "res = -np.array(res)\n",
    "\n",
    "res"
   ]
  },
  {
   "cell_type": "markdown",
   "id": "5f6855ef",
   "metadata": {},
   "source": [
    "The downside is that qiskit will convert $ P_0 $ to an exponential sized matrix.\n",
    "\n",
    "It's more efficient if we use a `DictStateFn` for the projector."
   ]
  },
  {
   "cell_type": "code",
   "execution_count": 9,
   "id": "c8f6c68d",
   "metadata": {},
   "outputs": [
    {
     "name": "stdout",
     "output_type": "stream",
     "text": [
      "0.4375\n"
     ]
    }
   ],
   "source": [
    "sampler = CircuitSampler(state_sim)\n",
    "# sampler = CircuitSampler(qasm_sim)\n",
    "\n",
    "# random values.\n",
    "value_dict = {\n",
    "    phi: np.pi / 3,\n",
    "    lam: np.pi / 2,\n",
    "}\n",
    "\n",
    "op = ~Zero @ CircuitStateFn(cost_qc)\n",
    "\n",
    "res = sampler.convert(op, value_dict)\n",
    "res = res.eval()\n",
    "C_HST = lambda x: 1 - np.abs(x) ** 2\n",
    "\n",
    "\n",
    "print(C_HST(res))"
   ]
  },
  {
   "cell_type": "markdown",
   "id": "d3d1ccf2",
   "metadata": {},
   "source": [
    "But now we have to do some extra work to get the gradients.\n",
    "\n",
    "The reason is that qiskit will apply correctly the parameter shift rule but if we evaluate directly the gradient operator it will take the amplitude of the zero state. We need the amplitude squared. \n",
    "\n",
    "For reference see equation (87) of arXiv:1807.00800 "
   ]
  },
  {
   "cell_type": "code",
   "execution_count": 10,
   "id": "5c4a2e9e",
   "metadata": {},
   "outputs": [
    {
     "data": {
      "text/plain": [
       "array([-0.375     ,  0.32475953])"
      ]
     },
     "execution_count": 10,
     "metadata": {},
     "output_type": "execute_result"
    }
   ],
   "source": [
    "grad_op = Gradient(grad_method='param_shift').convert(op)\n",
    "res = sampler.convert(grad_op, value_dict)\n",
    "\n",
    "n_pars = len(cost_qc.parameters)\n",
    "grads  = np.zeros(n_pars)\n",
    "\n",
    "for k in range(n_pars):\n",
    "    for term in res.oplist[k]:\n",
    "        coef = term.coeff\n",
    "        tmp  = term.eval() / coef\n",
    "        grads[k] += coef * C_HST(tmp)\n",
    "\n",
    "grads"
   ]
  },
  {
   "cell_type": "markdown",
   "id": "03f799e6",
   "metadata": {},
   "source": [
    "Optimizing for angle $ \\phi $."
   ]
  },
  {
   "cell_type": "code",
   "execution_count": 11,
   "id": "c8c7b81e",
   "metadata": {},
   "outputs": [
    {
     "data": {
      "text/plain": [
       "(array([3.14182155, 1.04739729]), 2.3073894461766997e-08, 4)"
      ]
     },
     "execution_count": 11,
     "metadata": {},
     "output_type": "execute_result"
    }
   ],
   "source": [
    "from qiskit.algorithms.optimizers import SLSQP\n",
    "\n",
    "\n",
    "# qasm_inst = QuantumInstance(qasm_sim, shots=2048)\n",
    "# sampler   = CircuitSampler(qasm_inst)\n",
    "\n",
    "sampler = CircuitSampler(state_sim)\n",
    "\n",
    "def cost_fn(vals):\n",
    "    value_dict = {\n",
    "        lam: vals[0],\n",
    "        phi: vals[1],\n",
    "    }\n",
    "    res = sampler.convert(op, value_dict).eval()\n",
    "    return C_HST(res)\n",
    "\n",
    "\n",
    "def grad_fn(vals):\n",
    "    value_dict = {\n",
    "        lam: vals[0],\n",
    "        phi: vals[1],\n",
    "    }\n",
    "    res = sampler.convert(grad_op, value_dict)\n",
    "\n",
    "    n_pars = len(vals)\n",
    "    grads  = np.zeros(n_pars)\n",
    "\n",
    "    for k in range(n_pars):\n",
    "        for term in res.oplist[k]:\n",
    "            coef = term.coeff\n",
    "            tmp  = term.eval() / coef\n",
    "            grads[k] += coef * C_HST(tmp)\n",
    "\n",
    "    return grads\n",
    "\n",
    "\n",
    "# random initial point.\n",
    "\n",
    "UB = 2 * np.pi\n",
    "x0 = UB * np.random.random(size=n_pars)\n",
    "\n",
    "optim = SLSQP()\n",
    "opt_val = optim.optimize(n_pars, cost_fn, grad_fn, initial_point=x0,\n",
    "                         variable_bounds=[(-UB, UB)] * n_pars)\n",
    "opt_val"
   ]
  }
 ],
 "metadata": {
  "kernelspec": {
   "display_name": "qdev",
   "language": "python",
   "name": "qdev"
  },
  "language_info": {
   "codemirror_mode": {
    "name": "ipython",
    "version": 3
   },
   "file_extension": ".py",
   "mimetype": "text/x-python",
   "name": "python",
   "nbconvert_exporter": "python",
   "pygments_lexer": "ipython3",
   "version": "3.7.10"
  }
 },
 "nbformat": 4,
 "nbformat_minor": 5
}
